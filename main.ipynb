{
 "cells": [
  {
   "cell_type": "code",
   "execution_count": null,
   "id": "initial_id",
   "metadata": {
    "collapsed": true
   },
   "outputs": [],
   "source": [
    "import os\n",
    "import requests\n",
    "from zipfile import ZipFile\n",
    "\n",
    "# Define the base URL for COCO dataset images and annotations\n",
    "BASE_URL = \"http://images.cocodataset.org/zips/\"\n",
    "ANNOTATIONS_URL = \"http://images.cocodataset.org/annotations/image_info_test2017.zip\"\n",
    "\n",
    "# Define directories for images and annotations\n",
    "data_dir = \"coco_2017_test_dataset\"\n",
    "images_dir = os.path.join(data_dir, \"images\")\n",
    "annotations_dir = os.path.join(data_dir, \"annotations\")\n",
    "\n",
    "# Create directories if they do not exist\n",
    "os.makedirs(images_dir, exist_ok=True)\n",
    "os.makedirs(annotations_dir, exist_ok=True)\n",
    "\n",
    "# Download a file from a given URL and save it locally\n",
    "def download_file(url, save_path):\n",
    "    print(f\"Downloading {url}...\")\n",
    "    response = requests.get(url)\n",
    "    with open(save_path, 'wb') as f:\n",
    "        f.write(response.content)\n",
    "    print(f\"Saved to {save_path}.\")\n",
    "\n",
    "# Extract a zip file\n",
    "def extract_zip(zip_path, extract_to):\n",
    "    print(f\"Extracting {zip_path}...\")\n",
    "    with ZipFile(zip_path, 'r') as zip_ref:\n",
    "        zip_ref.extractall(extract_to)\n",
    "    print(f\"Extracted to {extract_to}.\")\n",
    "\n",
    "# Step 1: Download and extract the test2017 dataset images (41K/6GB)\n",
    "image_zip = os.path.join(images_dir, \"test2017.zip\")\n",
    "image_url = f\"{BASE_URL}test2017.zip\"\n",
    "download_file(image_url, image_zip)\n",
    "extract_zip(image_zip, images_dir)\n",
    "os.remove(image_zip)  # Optionally, remove zip after extraction\n",
    "\n",
    "# Step 2: Download and extract the annotations for test2017 images (image info)\n",
    "annotations_zip = os.path.join(annotations_dir, \"image_info_test2017.zip\")\n",
    "download_file(ANNOTATIONS_URL, annotations_zip)\n",
    "extract_zip(annotations_zip, annotations_dir)\n",
    "os.remove(annotations_zip)  # Optionally, remove zip after extraction"
   ]
  }
 ],
 "metadata": {
  "kernelspec": {
   "display_name": "Python 3",
   "language": "python",
   "name": "python3"
  },
  "language_info": {
   "codemirror_mode": {
    "name": "ipython",
    "version": 2
   },
   "file_extension": ".py",
   "mimetype": "text/x-python",
   "name": "python",
   "nbconvert_exporter": "python",
   "pygments_lexer": "ipython2",
   "version": "2.7.6"
  }
 },
 "nbformat": 4,
 "nbformat_minor": 5
}
